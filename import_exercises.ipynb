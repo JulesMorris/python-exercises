{
 "cells": [
  {
   "cell_type": "code",
   "execution_count": 1,
   "id": "50a5a49b",
   "metadata": {},
   "outputs": [],
   "source": [
    "# 1c)\n",
    "from functions_exercises import get_letter_grade"
   ]
  },
  {
   "cell_type": "code",
   "execution_count": 2,
   "id": "3cb60b82",
   "metadata": {},
   "outputs": [
    {
     "data": {
      "text/plain": [
       "<function functions_exercises.get_letter_grade(num_grade)>"
      ]
     },
     "execution_count": 2,
     "metadata": {},
     "output_type": "execute_result"
    }
   ],
   "source": [
    "get_letter_grade"
   ]
  },
  {
   "cell_type": "code",
   "execution_count": 3,
   "id": "2b4b0cf3",
   "metadata": {},
   "outputs": [
    {
     "data": {
      "text/plain": [
       "'A'"
      ]
     },
     "execution_count": 3,
     "metadata": {},
     "output_type": "execute_result"
    }
   ],
   "source": [
    "get_letter_grade(95)"
   ]
  },
  {
   "cell_type": "code",
   "execution_count": null,
   "id": "5d0e83c6",
   "metadata": {},
   "outputs": [],
   "source": [
    "#if import entire module, you'll need 'name_of_module.name_of_function_to_be_called()'"
   ]
  },
  {
   "cell_type": "code",
   "execution_count": 5,
   "id": "9f3034e9",
   "metadata": {},
   "outputs": [
    {
     "data": {
      "text/plain": [
       "[('a', '1'),\n",
       " ('a', '2'),\n",
       " ('a', '3'),\n",
       " ('b', '1'),\n",
       " ('b', '2'),\n",
       " ('b', '3'),\n",
       " ('c', '1'),\n",
       " ('c', '2'),\n",
       " ('c', '3')]"
      ]
     },
     "execution_count": 5,
     "metadata": {},
     "output_type": "execute_result"
    }
   ],
   "source": [
    "import itertools\n",
    "# 2a) How many different ways can you combine the letters from \"abc\" with the numbers 1, 2, and 3?\n",
    "\n",
    "list(itertools.product('abc', '123'))"
   ]
  },
  {
   "cell_type": "code",
   "execution_count": 8,
   "id": "db115b2e",
   "metadata": {},
   "outputs": [
    {
     "data": {
      "text/plain": [
       "6"
      ]
     },
     "execution_count": 8,
     "metadata": {},
     "output_type": "execute_result"
    }
   ],
   "source": [
    "# 2b) How many different combinations are there of 2 letters from \"abcd\"?\n",
    "\n",
    "list(itertools.combinations('abcd' , 2))\n",
    "len(list(itertools.combinations('abcd', 2))) #6"
   ]
  },
  {
   "cell_type": "code",
   "execution_count": 9,
   "id": "15d4b215",
   "metadata": {},
   "outputs": [
    {
     "data": {
      "text/plain": [
       "12"
      ]
     },
     "execution_count": 9,
     "metadata": {},
     "output_type": "execute_result"
    }
   ],
   "source": [
    "# 2c)  How many different permutations are there of 2 letters from \"abcd\"?\n",
    "\n",
    "list(itertools.permutations('abcd', 2)) #order matters here, so there are more possibilities\n",
    "len(list(itertools.permutations('abcd', 2))) #12"
   ]
  },
  {
   "cell_type": "code",
   "execution_count": 13,
   "id": "688a9b7c",
   "metadata": {},
   "outputs": [],
   "source": [
    "import json\n",
    "\n",
    "profiles = json.load(open('profiles.json')) "
   ]
  },
  {
   "cell_type": "code",
   "execution_count": 18,
   "id": "363906b9",
   "metadata": {},
   "outputs": [
    {
     "data": {
      "text/plain": [
       "{'_id': '54e23c3e46ab53a440b580e8',\n",
       " 'index': 0,\n",
       " 'guid': '9962b468-ef3e-4993-b677-617469bc3008',\n",
       " 'isActive': False,\n",
       " 'balance': '$2,097.02',\n",
       " 'picture': 'http://placehold.it/32x32',\n",
       " 'age': 39,\n",
       " 'eyeColor': 'blue',\n",
       " 'name': 'Hebert Estes',\n",
       " 'gender': 'male',\n",
       " 'company': 'ANDRYX',\n",
       " 'email': 'hebertestes@andryx.com',\n",
       " 'phone': '+1 (866) 456-2268',\n",
       " 'address': '121 Emmons Avenue, Klondike, Kentucky, 5975',\n",
       " 'about': 'Sit cillum deserunt irure laboris tempor fugiat laboris. Amet commodo amet est incididunt. Dolore qui fugiat cillum pariatur dolore excepteur elit ipsum.\\r\\n',\n",
       " 'registered': '2014-11-10T01:44:03 +06:00',\n",
       " 'latitude': -80.157843,\n",
       " 'longitude': 161.93016,\n",
       " 'tags': ['sit', 'occaecat', 'non', 'ea', 'sit', 'laboris', 'exercitation'],\n",
       " 'friends': [{'id': 0, 'name': 'Tanisha Leonard'},\n",
       "  {'id': 1, 'name': 'Dennis Wilson'},\n",
       "  {'id': 2, 'name': 'Lupe Howe'}],\n",
       " 'greeting': 'Hello, Hebert Estes! You have 4 unread messages.',\n",
       " 'favoriteFruit': 'strawberry'}"
      ]
     },
     "execution_count": 18,
     "metadata": {},
     "output_type": "execute_result"
    }
   ],
   "source": [
    "profiles[0]"
   ]
  },
  {
   "cell_type": "code",
   "execution_count": 14,
   "id": "d01ee43d",
   "metadata": {},
   "outputs": [
    {
     "name": "stdout",
     "output_type": "stream",
     "text": [
      "19\n"
     ]
    }
   ],
   "source": [
    "# Total number of users\n",
    "\n",
    "users = len(profiles)\n",
    "print(users) #19"
   ]
  },
  {
   "cell_type": "code",
   "execution_count": 17,
   "id": "e4be62bc",
   "metadata": {},
   "outputs": [
    {
     "name": "stdout",
     "output_type": "stream",
     "text": [
      "9\n"
     ]
    }
   ],
   "source": [
    "# Number of active users (for loop)\n",
    "\n",
    "total_active = [] #create empty list\n",
    "\n",
    "for i in range(len(profiles)): \n",
    "    if profiles[i]['isActive']:\n",
    "        total_active.append(profiles[i]) #append to the empty list for profiles where isActive is True\n",
    "\n",
    "print(len(total_active)) # 9"
   ]
  },
  {
   "cell_type": "code",
   "execution_count": 19,
   "id": "39091e5a",
   "metadata": {},
   "outputs": [
    {
     "name": "stdout",
     "output_type": "stream",
     "text": [
      "9\n"
     ]
    }
   ],
   "source": [
    "# Number of active users(list comprehension)\n",
    "\n",
    "len([profile for profile in profiles if profile ['isActive']]) \n",
    "\n",
    "print(len([profile for profile in profiles if profile ['isActive']]))"
   ]
  },
  {
   "cell_type": "code",
   "execution_count": 22,
   "id": "fa47cb94",
   "metadata": {},
   "outputs": [
    {
     "name": "stdout",
     "output_type": "stream",
     "text": [
      "10\n"
     ]
    }
   ],
   "source": [
    "# Number of inactive users (list comprehension)\n",
    "\n",
    "len([profile for profile in profiles if not profile['isActive']]) #to return 'isActive' == False\n",
    "\n",
    "print(len([profile for profile in profiles if not profile['isActive']]))"
   ]
  },
  {
   "cell_type": "code",
   "execution_count": 23,
   "id": "34231cab",
   "metadata": {},
   "outputs": [
    {
     "name": "stdout",
     "output_type": "stream",
     "text": [
      "52667.02\n"
     ]
    }
   ],
   "source": [
    "# Grand total of balances of all users\n",
    "\n",
    "    #create function for cleaning the balance\n",
    "def laundered_balance(balance):\n",
    "    balance = balance.replace(',', '') #remove commas\n",
    "    balance = balance.replace('$', '') #remove $ symbol\n",
    "    return float(balance) #conver from string to float\n",
    "\n",
    "total_balance = sum([laundered_balance(profile['balance'])for profile in profiles]) #use sum and function in list comprehension\n",
    "print(total_balance)"
   ]
  },
  {
   "cell_type": "code",
   "execution_count": 24,
   "id": "33514d52",
   "metadata": {},
   "outputs": [
    {
     "name": "stdout",
     "output_type": "stream",
     "text": [
      "2771.95\n"
     ]
    }
   ],
   "source": [
    "# Average balance per user\n",
    "avg_user_balance = round(total_balance/users, 2) #use round to round the total_balance/users to 2 places\n",
    "print(avg_user_balance) #2771.95"
   ]
  },
  {
   "cell_type": "code",
   "execution_count": 26,
   "id": "5937b20a",
   "metadata": {},
   "outputs": [
    {
     "name": "stdout",
     "output_type": "stream",
     "text": [
      "Avery Flynn\n"
     ]
    }
   ],
   "source": [
    "# User with lowest balance\n",
    "lowest_balance_user = profiles[0] #not necessarily to but will use for loop to compare against/replace if untrue\n",
    "\n",
    "for profile in profiles[1:]: #loop through remaining profiles\n",
    "    if laundered_balance(profile['balance']) < laundered_balance(lowest_balance_user['balance']):\n",
    "        lowest_balance_user = profile #sets profile as user w/ lowest balance\n",
    "        \n",
    "print(lowest_balance_user['name']) #Avery Flynn\n"
   ]
  },
  {
   "cell_type": "code",
   "execution_count": 27,
   "id": "6a499495",
   "metadata": {},
   "outputs": [
    {
     "name": "stdout",
     "output_type": "stream",
     "text": [
      "Fay Hammond\n"
     ]
    }
   ],
   "source": [
    "# User with the highest balance\n",
    "\n",
    "highest_balance_user = profiles[0] #not necessarily to but will use for loop to compare against/replace if untrue\n",
    "\n",
    "for profile in profiles[1:]: #loop through remaining profiles\n",
    "    if laundered_balance(profile['balance']) > laundered_balance(highest_balance_user['balance']):\n",
    "        highest_balance_user = profile #sets profile as user w/ highest balance\n",
    "        \n",
    "print(highest_balance_user['name']) #Fay Hammond"
   ]
  },
  {
   "cell_type": "code",
   "execution_count": 28,
   "id": "a993f601",
   "metadata": {},
   "outputs": [
    {
     "name": "stdout",
     "output_type": "stream",
     "text": [
      "['strawberry', 'apple', 'banana', 'banana', 'apple', 'apple', 'banana', 'strawberry', 'strawberry', 'banana', 'strawberry', 'strawberry', 'apple', 'strawberry', 'strawberry', 'banana', 'strawberry', 'banana', 'strawberry']\n"
     ]
    }
   ],
   "source": [
    "# create list of favorite fruits first\n",
    "\n",
    "fav_fruits = [profile['favoriteFruit'] for profile in profiles]\n",
    "print(fav_fruits)"
   ]
  },
  {
   "cell_type": "code",
   "execution_count": 30,
   "id": "96962343",
   "metadata": {},
   "outputs": [
    {
     "name": "stdout",
     "output_type": "stream",
     "text": [
      "{'strawberry': 9, 'apple': 4, 'banana': 6}\n"
     ]
    }
   ],
   "source": [
    "# create a dictionary to hold the counts\n",
    "\n",
    "fav_fruit_count = {} #create empty dict\n",
    "\n",
    "for fruit in fav_fruits: #loop through fav fruits\n",
    "    if fruit in fav_fruit_count: # if statement for if name already exists as key in the dict\n",
    "        fav_fruit_count[fruit] += 1 #count started for fruit already? if so, add one \n",
    "    else: \n",
    "        fav_fruit_count[fruit] = 1 #if name appears that doesn't already exist, add name as key to the dict with 1 as value\n",
    "        \n",
    "print(fav_fruit_count) #dictionary with keys(names of fruits) : values (# of times appeared)"
   ]
  },
  {
   "cell_type": "code",
   "execution_count": null,
   "id": "0f983659",
   "metadata": {},
   "outputs": [],
   "source": [
    "# Most common favorite fruit\n",
    "    #strawberry "
   ]
  },
  {
   "cell_type": "code",
   "execution_count": null,
   "id": "1088c740",
   "metadata": {},
   "outputs": [],
   "source": [
    "# Least common favorite fruit\n",
    "    #apple"
   ]
  },
  {
   "cell_type": "code",
   "execution_count": 31,
   "id": "da96bd50",
   "metadata": {},
   "outputs": [
    {
     "name": "stdout",
     "output_type": "stream",
     "text": [
      "4\n"
     ]
    }
   ],
   "source": [
    "# first create a function to find the digits in 'greeting' key, which shows a value string w/ # of unread msg\n",
    "\n",
    "def extract_digit(s):\n",
    "    return ''.join([c for c in s if c.isdigit()]) #use '' w/ join and isdigit to return only the digit\n",
    "\n",
    "#verify it works\n",
    "print(extract_digit(profiles[0]['greeting'])) #4\n"
   ]
  },
  {
   "cell_type": "code",
   "execution_count": 33,
   "id": "69dbb560",
   "metadata": {},
   "outputs": [
    {
     "name": "stdout",
     "output_type": "stream",
     "text": [
      "210\n"
     ]
    }
   ],
   "source": [
    "# Total number of unread messages for all users\n",
    "\n",
    "unread_messages = [int(extract_digit(profile['greeting'])) for profile in profiles] #turn str to int to sum in list comprehension\n",
    "print(sum(unread_messages)) #210"
   ]
  },
  {
   "cell_type": "code",
   "execution_count": 34,
   "id": "ff574d03",
   "metadata": {},
   "outputs": [
    {
     "name": "stdout",
     "output_type": "stream",
     "text": [
      "[4, 19, 5, 10, 9, 19, 13, 17, 2, 18, 2, 13, 7, 13, 12, 7, 19, 5, 16]\n"
     ]
    }
   ],
   "source": [
    "print(unread_messages) "
   ]
  }
 ],
 "metadata": {
  "kernelspec": {
   "display_name": "Python 3 (ipykernel)",
   "language": "python",
   "name": "python3"
  },
  "language_info": {
   "codemirror_mode": {
    "name": "ipython",
    "version": 3
   },
   "file_extension": ".py",
   "mimetype": "text/x-python",
   "name": "python",
   "nbconvert_exporter": "python",
   "pygments_lexer": "ipython3",
   "version": "3.9.7"
  }
 },
 "nbformat": 4,
 "nbformat_minor": 5
}
