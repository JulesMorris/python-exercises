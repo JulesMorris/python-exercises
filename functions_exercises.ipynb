{
 "cells": [
  {
   "cell_type": "code",
   "execution_count": 8,
   "id": "7abc2dd4",
   "metadata": {},
   "outputs": [
    {
     "data": {
      "text/plain": [
       "False"
      ]
     },
     "execution_count": 8,
     "metadata": {},
     "output_type": "execute_result"
    }
   ],
   "source": [
    "# 1)\n",
    "# Define a function named is_two. It should accept one input and return True if the passed input is either \n",
    "#the number or the string 2, False otherwise.\n",
    "\n",
    "def is_two(x):\n",
    "    if x == 2 or x == 'two'.lower():\n",
    "        return True\n",
    "    else:\n",
    "        return False\n",
    "    \n",
    "is_two(4)\n",
    "    "
   ]
  },
  {
   "cell_type": "code",
   "execution_count": 36,
   "id": "3268ee63",
   "metadata": {},
   "outputs": [
    {
     "data": {
      "text/plain": [
       "True"
      ]
     },
     "execution_count": 36,
     "metadata": {},
     "output_type": "execute_result"
    }
   ],
   "source": [
    "# 1) review : -_- \n",
    "\n",
    "def is_two_rev(n):\n",
    "    return n == 2 or n == '2'\n",
    "\n",
    "is_two_rev(2)\n",
    "is_two_rev('2')\n",
    "is_two_rev(2.0)"
   ]
  },
  {
   "cell_type": "code",
   "execution_count": 41,
   "id": "561d7760",
   "metadata": {},
   "outputs": [
    {
     "data": {
      "text/plain": [
       "False"
      ]
     },
     "execution_count": 41,
     "metadata": {},
     "output_type": "execute_result"
    }
   ],
   "source": [
    "# 2) \n",
    "# Define a function named is_vowel. It should return True if the passed string is a vowel, False otherwise.\n",
    "\n",
    "def is_vowel(str):\n",
    "    if str in 'aeiou'.lower():\n",
    "        return True\n",
    "    else:\n",
    "        return False\n",
    "    \n",
    "is_vowel('y')\n"
   ]
  },
  {
   "cell_type": "code",
   "execution_count": 40,
   "id": "dd0b13e1",
   "metadata": {},
   "outputs": [
    {
     "data": {
      "text/plain": [
       "False"
      ]
     },
     "execution_count": 40,
     "metadata": {},
     "output_type": "execute_result"
    }
   ],
   "source": [
    "# 2) review: -_-\n",
    "\n",
    "def is_vowel_rev(somestring):\n",
    "    if type(somestring) == str:\n",
    "        result = somestring.lower() in ['a', 'e', 'i', 'o', 'u']\n",
    "        return result\n",
    "    else:\n",
    "        return False\n",
    "    \n",
    "is_vowel_rev('aeiou') #returns false because not single character, as parsed out in list which more explicit"
   ]
  },
  {
   "cell_type": "code",
   "execution_count": null,
   "id": "6c813f99",
   "metadata": {},
   "outputs": [],
   "source": [
    "# 2) alt (Mindy):\n",
    "def is_vowel_alt:\n",
    "    "
   ]
  },
  {
   "cell_type": "code",
   "execution_count": 46,
   "id": "2f2eb4c4",
   "metadata": {},
   "outputs": [
    {
     "data": {
      "text/plain": [
       "True"
      ]
     },
     "execution_count": 46,
     "metadata": {},
     "output_type": "execute_result"
    }
   ],
   "source": [
    "# 3) Define a function named is_consonant. It should return True if the passed string is a consonant, False otherwise. \n",
    "# Use your is_vowel function to accomplish this.\n",
    "\n",
    "def is_consonant(str):\n",
    "    if str not in 'aeiou'.lower():\n",
    "        return True\n",
    "    else:\n",
    "        return False\n",
    "    \n",
    "is_consonant('thy')\n",
    "    "
   ]
  },
  {
   "cell_type": "code",
   "execution_count": null,
   "id": "a3053736",
   "metadata": {},
   "outputs": [],
   "source": [
    "# 3) review:"
   ]
  },
  {
   "cell_type": "code",
   "execution_count": 26,
   "id": "044f64bd",
   "metadata": {},
   "outputs": [
    {
     "data": {
      "text/plain": [
       "'Thy'"
      ]
     },
     "execution_count": 26,
     "metadata": {},
     "output_type": "execute_result"
    }
   ],
   "source": [
    "# 4) Define a function that accepts a string that is a word. The function should capitalize the first letter \n",
    "# of the word if the word starts with a consonant.\n",
    "\n",
    "def cap_con(word):\n",
    "    starts_with = word[0] #index of first letter\n",
    "    if starts_with not in 'aeiou'.lower():\n",
    "        return word.capitalize()\n",
    "    else:\n",
    "        return word\n",
    "    \n",
    "cap_con('apple')\n",
    "cap_con('thy')\n"
   ]
  },
  {
   "cell_type": "code",
   "execution_count": 49,
   "id": "7c3e3762",
   "metadata": {},
   "outputs": [
    {
     "data": {
      "text/plain": [
       "'apple'"
      ]
     },
     "execution_count": 49,
     "metadata": {},
     "output_type": "execute_result"
    }
   ],
   "source": [
    "# 4) review: -_-\n",
    "\n",
    "def capitalize_starting_consonant(string):\n",
    "    if type(string) != str:\n",
    "        return False\n",
    "    first_letter = string[0]\n",
    "    if is_consonant(first_letter):\n",
    "        string = string.capitalize()\n",
    "    return string\n",
    "\n",
    "capitalize_starting_consonant('apple')"
   ]
  },
  {
   "cell_type": "code",
   "execution_count": 35,
   "id": "a7c8b3e9",
   "metadata": {},
   "outputs": [
    {
     "name": "stdout",
     "output_type": "stream",
     "text": [
      "How much was the total bill? 79.08\n",
      "If you want to leave a 10% tip, the tip amount will be $7.91.\n",
      "If you want to leave a 15% tip, the tip amount will be $11.86.\n",
      "If you want to leave a 20% tip, the tip amount will be $15.82.\n",
      "If you want to leave a 25% tip, the tip amount will be $19.77.\n"
     ]
    }
   ],
   "source": [
    "# 5) Define a function named calculate_tip. It should accept a tip percentage (a number between 0 and 1) and \n",
    "# the bill total, and return the amount to tip.\n",
    "\n",
    "def calculate_tip():\n",
    "    bill = input(\"How much was the total bill? \")\n",
    "    x = float(bill)\n",
    "    tip_amts = [10, 15, 20, 25]\n",
    "    for tip in tip_amts:\n",
    "        print(f\"If you want to leave a {tip}% tip, the tip amount will be ${x*tip/100:.2f}.\")\n",
    "    #total_tip = x * tip / 100         \n",
    "    #print(f\"Your total tip is ${total_tip:.2f}.\")          \n",
    "    \n",
    "    \n",
    "    \n",
    "calculate_tip()    \n",
    "    \n",
    "    "
   ]
  },
  {
   "cell_type": "code",
   "execution_count": 37,
   "id": "4af75e9e",
   "metadata": {},
   "outputs": [
    {
     "data": {
      "text/plain": [
       "'2525252525252525252525252525252525252525252525252525252525252525252525252525252525252525252525252525252525252525252525252525252525252525252525252525252525252525252525252525252525252525252525252525252525252525252525252525252525252525252525252525252525252525252525252525252525'"
      ]
     },
     "execution_count": 37,
     "metadata": {},
     "output_type": "execute_result"
    }
   ],
   "source": [
    "# 5) alt\n",
    "def calculate_tip2(per, bill): # -_- why is this so simple?\n",
    "    return per * bill\n",
    "\n",
    "calculate_tip2(.25, 135)\n",
    "calculate_tip2(\"25\", 137) #doesn't throw an error, gives back 25 written 137 times"
   ]
  },
  {
   "cell_type": "code",
   "execution_count": null,
   "id": "e057ba43",
   "metadata": {},
   "outputs": [],
   "source": [
    "# 5) Review"
   ]
  },
  {
   "cell_type": "code",
   "execution_count": 54,
   "id": "29b2d1ca",
   "metadata": {},
   "outputs": [
    {
     "name": "stdout",
     "output_type": "stream",
     "text": [
      "Original price: 1499.99\n",
      "Discount percentage: 25\n",
      "The discounted price is: $1474.99\n"
     ]
    }
   ],
   "source": [
    "# 6) Define a function named apply_discount. It should accept a original price, and a discount percentage, \n",
    "# and return the price after the discount is applied.\n",
    "\n",
    "def apply_discount(price, discount):\n",
    "    ds = price * (discount / 100)\n",
    "    sp = price - ds\n",
    "    sp = round(sp, 2)\n",
    "    return sp\n",
    "\n",
    "ori_price = float(input(\"Original price: \"))\n",
    "disc_percent = int(input(\"Discount percentage: \"))\n",
    "disc_price = ori_price - disc_percent\n",
    "print(f\"The discounted price is: ${disc_price:.2f}\")"
   ]
  },
  {
   "cell_type": "code",
   "execution_count": null,
   "id": "60c5697b",
   "metadata": {},
   "outputs": [],
   "source": [
    "#6 review/alt:\n",
    "\n"
   ]
  },
  {
   "cell_type": "code",
   "execution_count": 7,
   "id": "dab07a7d",
   "metadata": {},
   "outputs": [
    {
     "data": {
      "text/plain": [
       "1000000000.0"
      ]
     },
     "execution_count": 7,
     "metadata": {},
     "output_type": "execute_result"
    }
   ],
   "source": [
    "# 7) Define a function named handle_commas. It should accept a string that is a \n",
    "# number that contains commas in it as input, and return a number as output.\n",
    "def handle_commas(x):\n",
    "    return (float(x.replace(\",\" , \"\"))) #must change to float\n",
    "\n",
    "handle_commas(\"1,000,000,000.00\")"
   ]
  },
  {
   "cell_type": "code",
   "execution_count": 62,
   "id": "1c7b7ed7",
   "metadata": {},
   "outputs": [],
   "source": [
    "# 7) Review/alt"
   ]
  },
  {
   "cell_type": "code",
   "execution_count": 8,
   "id": "852caea7",
   "metadata": {},
   "outputs": [
    {
     "data": {
      "text/plain": [
       "'C'"
      ]
     },
     "execution_count": 8,
     "metadata": {},
     "output_type": "execute_result"
    }
   ],
   "source": [
    "# 8) Define a function named get_letter_grade. It should accept a number and return the \n",
    "# letter grade associated with that number (A-F).\n",
    "\n",
    "def get_letter_grade(num_grade):\n",
    "    if num_grade > 90:\n",
    "        return \"A\"\n",
    "    elif num_grade > 80:\n",
    "        return \"B\"\n",
    "    elif num_grade > 70:\n",
    "        return \"C\"\n",
    "    else:\n",
    "        return \"F\"\n",
    "    \n",
    "get_letter_grade(75)"
   ]
  },
  {
   "cell_type": "code",
   "execution_count": null,
   "id": "7adbe714",
   "metadata": {},
   "outputs": [],
   "source": [
    "# 8) Review/alt"
   ]
  },
  {
   "cell_type": "code",
   "execution_count": 11,
   "id": "b3ea5e55",
   "metadata": {},
   "outputs": [
    {
     "data": {
      "text/plain": [
       "'bnn'"
      ]
     },
     "execution_count": 11,
     "metadata": {},
     "output_type": "execute_result"
    }
   ],
   "source": [
    "# 9) Define a function named remove_vowels that accepts a string and returns a string with all the vowels removed.\n",
    "\n",
    "def remove_vowels(word):\n",
    "    for i in 'aeiou'.lower():\n",
    "        word = word.replace(i, \"\")\n",
    "    return word\n",
    "\n",
    "remove_vowels(\"banana\")"
   ]
  },
  {
   "cell_type": "code",
   "execution_count": null,
   "id": "d3c6f228",
   "metadata": {},
   "outputs": [],
   "source": [
    "# 9) Review/alt"
   ]
  },
  {
   "cell_type": "code",
   "execution_count": 26,
   "id": "dedacbc4",
   "metadata": {},
   "outputs": [
    {
     "data": {
      "text/plain": [
       "'first_name'"
      ]
     },
     "execution_count": 26,
     "metadata": {},
     "output_type": "execute_result"
    }
   ],
   "source": [
    "# 10)Define a function named normalize_name. It should accept a string and return a valid python identifier, that is:\n",
    "\n",
    "    #anything that is not a valid python identifier should be removed\n",
    "    #leading and trailing whitespace should be removed\n",
    "    #everything should be lowercase\n",
    "    #spaces should be replaced with underscores\n",
    "    #for example:\n",
    "        # Name will become name\n",
    "        # First Name will become first_name\n",
    "       # % Completed will become completed\n",
    "\n",
    "    \n",
    "def normalize_name(word):\n",
    "    invalid_character = ['!', '@,', '#', '$', '%', '^', '&', '*', '(' ,')', '<', '>,' ,'?', ';', ':', '~', '`', '+', '=', '{', '}', '[', ']' , '-', \" \"]\n",
    "    for i in invalid_character:\n",
    "        word = word.replace(i, '_')\n",
    "    word = word.strip()\n",
    "    return word.lower()\n",
    "\n",
    "normalize_name(\"First Name\") \n",
    "\n"
   ]
  },
  {
   "cell_type": "code",
   "execution_count": 29,
   "id": "68f8261a",
   "metadata": {},
   "outputs": [
    {
     "ename": "AttributeError",
     "evalue": "'list' object has no attribute 'strip'",
     "output_type": "error",
     "traceback": [
      "\u001b[0;31m---------------------------------------------------------------------------\u001b[0m",
      "\u001b[0;31mAttributeError\u001b[0m                            Traceback (most recent call last)",
      "\u001b[0;32m/var/folders/ry/d9b6htx57bx_sj1vtzmy_pbw0000gn/T/ipykernel_31052/8733533.py\u001b[0m in \u001b[0;36m<module>\u001b[0;34m\u001b[0m\n\u001b[1;32m      9\u001b[0m     \u001b[0;32mreturn\u001b[0m \u001b[0mword\u001b[0m\u001b[0;34m.\u001b[0m\u001b[0mlower\u001b[0m\u001b[0;34m(\u001b[0m\u001b[0;34m)\u001b[0m\u001b[0;34m\u001b[0m\u001b[0;34m\u001b[0m\u001b[0m\n\u001b[1;32m     10\u001b[0m \u001b[0;34m\u001b[0m\u001b[0m\n\u001b[0;32m---> 11\u001b[0;31m \u001b[0mnormalize_name2\u001b[0m\u001b[0;34m(\u001b[0m\u001b[0;34m\"%First Name\"\u001b[0m\u001b[0;34m)\u001b[0m\u001b[0;34m\u001b[0m\u001b[0;34m\u001b[0m\u001b[0m\n\u001b[0m\u001b[1;32m     12\u001b[0m \u001b[0;34m\u001b[0m\u001b[0m\n",
      "\u001b[0;32m/var/folders/ry/d9b6htx57bx_sj1vtzmy_pbw0000gn/T/ipykernel_31052/8733533.py\u001b[0m in \u001b[0;36mnormalize_name2\u001b[0;34m(word)\u001b[0m\n\u001b[1;32m      2\u001b[0m \u001b[0;34m\u001b[0m\u001b[0m\n\u001b[1;32m      3\u001b[0m \u001b[0;32mdef\u001b[0m \u001b[0mnormalize_name2\u001b[0m\u001b[0;34m(\u001b[0m\u001b[0mword\u001b[0m\u001b[0;34m)\u001b[0m\u001b[0;34m:\u001b[0m\u001b[0;34m\u001b[0m\u001b[0;34m\u001b[0m\u001b[0m\n\u001b[0;32m----> 4\u001b[0;31m     \u001b[0mvalid_char\u001b[0m \u001b[0;34m=\u001b[0m \u001b[0;34m[\u001b[0m\u001b[0;34m\"abcdefghijklmnopqrstuvwxyz\"\u001b[0m\u001b[0;34m,\u001b[0m \u001b[0;34m\"_\"\u001b[0m\u001b[0;34m]\u001b[0m\u001b[0;34m.\u001b[0m\u001b[0mstrip\u001b[0m\u001b[0;34m(\u001b[0m\u001b[0;34m)\u001b[0m\u001b[0;34m.\u001b[0m\u001b[0mlower\u001b[0m\u001b[0;34m(\u001b[0m\u001b[0;34m)\u001b[0m\u001b[0;34m\u001b[0m\u001b[0;34m\u001b[0m\u001b[0m\n\u001b[0m\u001b[1;32m      5\u001b[0m     \u001b[0;32mfor\u001b[0m \u001b[0mi\u001b[0m \u001b[0;32min\u001b[0m \u001b[0mword\u001b[0m\u001b[0;34m:\u001b[0m\u001b[0;34m\u001b[0m\u001b[0;34m\u001b[0m\u001b[0m\n\u001b[1;32m      6\u001b[0m         \u001b[0;32mif\u001b[0m \u001b[0mi\u001b[0m \u001b[0;32mnot\u001b[0m \u001b[0;32min\u001b[0m \u001b[0mvalid_char\u001b[0m\u001b[0;34m:\u001b[0m\u001b[0;34m\u001b[0m\u001b[0;34m\u001b[0m\u001b[0m\n",
      "\u001b[0;31mAttributeError\u001b[0m: 'list' object has no attribute 'strip'"
     ]
    }
   ],
   "source": [
    "# 10) alt\n",
    "\n",
    " #def normalize_name2(word):\n",
    "    #valid_char = [\"abcdefghijklmnopqrstuvwxyz\", \"_\"]\n",
    "    #for i in word:\n",
    "        \n",
    "        #if i not in valid_char:\n",
    "            #word = word.replace(i, '_')\n",
    "            \n",
    "    #return word.lower()\n",
    "\n",
    "#normalize_name2(\"%First Name\")\n",
    "        "
   ]
  },
  {
   "cell_type": "code",
   "execution_count": 25,
   "id": "90046175",
   "metadata": {},
   "outputs": [
    {
     "name": "stdout",
     "output_type": "stream",
     "text": [
      "[]\n",
      "['F']\n",
      "['F', 'i']\n",
      "['F', 'i', 'r']\n",
      "['F', 'i', 'r', 's']\n",
      "['F', 'i', 'r', 's', 't']\n",
      "['F', 'i', 'r', 's', 't', ' ']\n",
      "['F', 'i', 'r', 's', 't', ' ', 'N']\n",
      "['F', 'i', 'r', 's', 't', ' ', 'N', 'a']\n",
      "['F', 'i', 'r', 's', 't', ' ', 'N', 'a', 'm']\n",
      "First Name\n",
      "[]\n",
      "['f']\n",
      "fl\n"
     ]
    },
    {
     "data": {
      "text/plain": [
       "'fl'"
      ]
     },
     "execution_count": 25,
     "metadata": {},
     "output_type": "execute_result"
    }
   ],
   "source": [
    "# 10) alt\n",
    "\n",
    "def normal_name (s):\n",
    "    valid_chara = []\n",
    "    for chara in s:\n",
    "        if chara.isidentifier() or chara == ' ':\n",
    "            #print(valid_chara)\n",
    "            valid_chara.append(chara)\n",
    "    valid_chara = ''.join(valid_chara)\n",
    "    #print(valid_chara)\n",
    "    valid_chara = valid_chara.strip()\n",
    "    valid_chara = valid_chara.lower()\n",
    "    valid_chara = valid_chara.replace(\" \", \"_\")\n",
    "    return valid_chara\n",
    "\n",
    "\n",
    "normal_name(\"First Name\")\n",
    "normal_name(\"%fl!\")\n"
   ]
  },
  {
   "cell_type": "code",
   "execution_count": 33,
   "id": "9d4f48b6",
   "metadata": {},
   "outputs": [
    {
     "data": {
      "text/plain": [
       "[1, 3, 6]"
      ]
     },
     "execution_count": 33,
     "metadata": {},
     "output_type": "execute_result"
    }
   ],
   "source": [
    "# 11) Write a function named cumulative_sum that accepts a list of numbers and returns a list that is \n",
    "# the cumulative sum of the numbers in the list.\n",
    "\n",
    "    #cumulative_sum([1, 1, 1]) returns [1, 2, 3]\n",
    "    #cumulative_sum([1, 2, 3, 4]) returns [1, 3, 6, 10]\n",
    "    \n",
    "def cumulative_sum(num_list):\n",
    "    sum_of_list = [num_list[0]]\n",
    "    for i in num_list [1:]:\n",
    "            previous_sum = sum_of_list[-1]\n",
    "            sum_of_list.append(previous_sum + i)\n",
    "    return sum_of_list\n",
    "\n",
    "cumulative_sum([1, 2, 3])\n"
   ]
  },
  {
   "cell_type": "code",
   "execution_count": null,
   "id": "ad0f8de2",
   "metadata": {},
   "outputs": [],
   "source": [
    "# 11) review/alt\n"
   ]
  }
 ],
 "metadata": {
  "kernelspec": {
   "display_name": "Python 3 (ipykernel)",
   "language": "python",
   "name": "python3"
  },
  "language_info": {
   "codemirror_mode": {
    "name": "ipython",
    "version": 3
   },
   "file_extension": ".py",
   "mimetype": "text/x-python",
   "name": "python",
   "nbconvert_exporter": "python",
   "pygments_lexer": "ipython3",
   "version": "3.9.7"
  }
 },
 "nbformat": 4,
 "nbformat_minor": 5
}
