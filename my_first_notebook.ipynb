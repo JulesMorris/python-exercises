{
 "cells": [
  {
   "cell_type": "code",
   "execution_count": 1,
   "id": "513b415a",
   "metadata": {},
   "outputs": [
    {
     "name": "stdout",
     "output_type": "stream",
     "text": [
      "4\n"
     ]
    }
   ],
   "source": [
    "print (2 + 2) # the print function is a NoneType as it just returns the value of what is placed in the function"
   ]
  },
  {
   "cell_type": "code",
   "execution_count": 2,
   "id": "8fe673b1",
   "metadata": {},
   "outputs": [
    {
     "name": "stdout",
     "output_type": "stream",
     "text": [
      "Hello world!\n"
     ]
    }
   ],
   "source": [
    "print ('Hello world!') #"
   ]
  },
  {
   "cell_type": "code",
   "execution_count": 3,
   "id": "dfea12d3",
   "metadata": {},
   "outputs": [
    {
     "name": "stdout",
     "output_type": "stream",
     "text": [
      "Hello darkness, my old friend...\n"
     ]
    }
   ],
   "source": [
    "print('Hello darkness, my old friend...')"
   ]
  },
  {
   "cell_type": "code",
   "execution_count": 2,
   "id": "7c52cc22",
   "metadata": {},
   "outputs": [
    {
     "data": {
      "text/plain": [
       "'\\n\\'\"You miss 100% of the shots you don\\'t take\" - Wayne Gretsky\\' - Michael Scott \\n'"
      ]
     },
     "execution_count": 2,
     "metadata": {},
     "output_type": "execute_result"
    }
   ],
   "source": [
    "quote = \"\"\"\n",
    "'\"You miss 100% of the shots you don't take\" - Wayne Gretsky' - Michael Scott \n",
    "\"\"\"\n",
    "quote\n",
    "\n",
    "# triple quotes can be used for more than docstrings"
   ]
  },
  {
   "cell_type": "code",
   "execution_count": null,
   "id": "333a488f",
   "metadata": {},
   "outputs": [],
   "source": [
    "# the backslash featured above is an escape character\n",
    "# 'Escape' means to avoid the default behavior"
   ]
  },
  {
   "cell_type": "code",
   "execution_count": 1,
   "id": "183658d6",
   "metadata": {},
   "outputs": [
    {
     "name": "stdout",
     "output_type": "stream",
     "text": [
      "Collecting pydataset\n",
      "  Downloading pydataset-0.2.0.tar.gz (15.9 MB)\n",
      "\u001b[K     |████████████████████████████████| 15.9 MB 7.7 MB/s eta 0:00:01\n",
      "\u001b[?25hRequirement already satisfied: pandas in /usr/local/anaconda3/lib/python3.9/site-packages (from pydataset) (1.3.4)\n",
      "Requirement already satisfied: python-dateutil>=2.7.3 in /usr/local/anaconda3/lib/python3.9/site-packages (from pandas->pydataset) (2.8.2)\n",
      "Requirement already satisfied: pytz>=2017.3 in /usr/local/anaconda3/lib/python3.9/site-packages (from pandas->pydataset) (2021.3)\n",
      "Requirement already satisfied: numpy>=1.17.3 in /usr/local/anaconda3/lib/python3.9/site-packages (from pandas->pydataset) (1.20.3)\n",
      "Requirement already satisfied: six>=1.5 in /usr/local/anaconda3/lib/python3.9/site-packages (from python-dateutil>=2.7.3->pandas->pydataset) (1.16.0)\n",
      "Building wheels for collected packages: pydataset\n",
      "  Building wheel for pydataset (setup.py) ... \u001b[?25ldone\n",
      "\u001b[?25h  Created wheel for pydataset: filename=pydataset-0.2.0-py3-none-any.whl size=15939430 sha256=66921a2f51390c0511eafbcf81f8f29e8e31f0d2006c2f16116bfa937d41864f\n",
      "  Stored in directory: /Users/juleszara/Library/Caches/pip/wheels/6b/86/a7/f71cb84c7bff804d83e293615a20c0531234397b796aee2645\n",
      "Successfully built pydataset\n",
      "Installing collected packages: pydataset\n",
      "Successfully installed pydataset-0.2.0\n",
      "Note: you may need to restart the kernel to use updated packages.\n"
     ]
    }
   ],
   "source": [
    "pip install pydataset"
   ]
  }
 ],
 "metadata": {
  "kernelspec": {
   "display_name": "Python 3 (ipykernel)",
   "language": "python",
   "name": "python3"
  },
  "language_info": {
   "codemirror_mode": {
    "name": "ipython",
    "version": 3
   },
   "file_extension": ".py",
   "mimetype": "text/x-python",
   "name": "python",
   "nbconvert_exporter": "python",
   "pygments_lexer": "ipython3",
   "version": "3.9.7"
  }
 },
 "nbformat": 4,
 "nbformat_minor": 5
}
