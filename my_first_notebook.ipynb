{
 "cells": [
  {
   "cell_type": "code",
   "execution_count": 1,
   "id": "513b415a",
   "metadata": {},
   "outputs": [
    {
     "name": "stdout",
     "output_type": "stream",
     "text": [
      "4\n"
     ]
    }
   ],
   "source": [
    "print (2 + 2) # the print function is a NoneType as it just returns the value of what is placed in the function"
   ]
  },
  {
   "cell_type": "code",
   "execution_count": 2,
   "id": "8fe673b1",
   "metadata": {},
   "outputs": [
    {
     "name": "stdout",
     "output_type": "stream",
     "text": [
      "Hello world!\n"
     ]
    }
   ],
   "source": [
    "print ('Hello world!') #"
   ]
  },
  {
   "cell_type": "code",
   "execution_count": 3,
   "id": "dfea12d3",
   "metadata": {},
   "outputs": [
    {
     "name": "stdout",
     "output_type": "stream",
     "text": [
      "Hello darkness, my old friend...\n"
     ]
    }
   ],
   "source": [
    "print('Hello darkness, my old friend...')"
   ]
  },
  {
   "cell_type": "code",
   "execution_count": 2,
   "id": "7c52cc22",
   "metadata": {},
   "outputs": [
    {
     "data": {
      "text/plain": [
       "'\\n\\'\"You miss 100% of the shots you don\\'t take\" - Wayne Gretsky\\' - Michael Scott \\n'"
      ]
     },
     "execution_count": 2,
     "metadata": {},
     "output_type": "execute_result"
    }
   ],
   "source": [
    "quote = \"\"\"\n",
    "'\"You miss 100% of the shots you don't take\" - Wayne Gretsky' - Michael Scott \n",
    "\"\"\"\n",
    "quote\n",
    "\n",
    "# triple quotes can be used for more than docstrings"
   ]
  },
  {
   "cell_type": "code",
   "execution_count": null,
   "id": "333a488f",
   "metadata": {},
   "outputs": [],
   "source": [
    "# the backslash featured above is an escape character\n",
    "# 'Escape' means to avoid the default behavior"
   ]
  }
 ],
 "metadata": {
  "kernelspec": {
   "display_name": "Python 3 (ipykernel)",
   "language": "python",
   "name": "python3"
  },
  "language_info": {
   "codemirror_mode": {
    "name": "ipython",
    "version": 3
   },
   "file_extension": ".py",
   "mimetype": "text/x-python",
   "name": "python",
   "nbconvert_exporter": "python",
   "pygments_lexer": "ipython3",
   "version": "3.9.7"
  }
 },
 "nbformat": 4,
 "nbformat_minor": 5
}
