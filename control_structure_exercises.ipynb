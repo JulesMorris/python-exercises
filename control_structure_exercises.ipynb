{
 "cells": [
  {
   "cell_type": "markdown",
   "id": "875fb9e9",
   "metadata": {},
   "source": [
    "## Conditional Basics Question 1"
   ]
  },
  {
   "cell_type": "code",
   "execution_count": 4,
   "id": "408670cb",
   "metadata": {},
   "outputs": [
    {
     "name": "stdout",
     "output_type": "stream",
     "text": [
      "What day of the week is it?tuesday\n",
      "It isn't Monday.\n"
     ]
    }
   ],
   "source": [
    "\n",
    "    # a)prompt the user for a day of the week, print out whether the day is Monday or not\n",
    "today_is_monday = 'Monday'\n",
    "user_input = input(\"What day of the week is it?\")\n",
    "\n",
    "if user_input != today_is_monday.lower():\n",
    "        print(\"It isn't Monday.\")\n",
    "else:\n",
    "        print(\"Today, I have a case of the Mondays...\")\n"
   ]
  },
  {
   "cell_type": "code",
   "execution_count": 2,
   "id": "e4f42d9f",
   "metadata": {},
   "outputs": [
    {
     "name": "stdout",
     "output_type": "stream",
     "text": [
      "Is it a weekday or the weekend?weekend\n",
      "Hello weekend, my old friend.\n"
     ]
    }
   ],
   "source": [
    "# b)prompt the user for a day of the week, print out whether the day is a weekday or a weekend\n",
    "the_weekend = \"Saturday\" and \"Sunday\" and \"Weekend\"\n",
    "wknd_user_input = input(\"Is it a weekday or the weekend?\")\n",
    "\n",
    "while wknd_user_input != the_weekend.lower():\n",
    "    print(\"No reason to get too excited, there's still more chorin' to do since it's a weekday.\")\n",
    "    wknd_user_input = input(\"Is it a weekday or a weekend?\")\n",
    "    \n",
    "print(\"Hello weekend, my old friend.\")\n",
    "\n"
   ]
  },
  {
   "cell_type": "code",
   "execution_count": 16,
   "id": "836e4e98",
   "metadata": {},
   "outputs": [
    {
     "name": "stdout",
     "output_type": "stream",
     "text": [
      "5683.5\n"
     ]
    }
   ],
   "source": [
    " # c) create variables and make up values for\n",
    "        #the number of hours worked in one week\n",
    "        #the hourly rate\n",
    "        #how much the week's paycheck will be\n",
    "\n",
    "    #write the python code that calculates the weekly paycheck. You get paid time and a half if you work more than 40 hours\n",
    "\n",
    "#def wage_calc(hourly, hours):\n",
    "    #weekly_wages = hourly * hours\n",
    "    #if hours > 40:\n",
    "        #overtime = 40 - hours \n",
    "        #weekly_wages += 0.5 * overtime\n",
    "    #return weekly_wages\n",
    "\n",
    "#print(wage_calc(120, 47))\n",
    "\n",
    "num_hours_worked = 47\n",
    "hourly_pay = 120\n",
    "\n",
    "\n",
    "if num_hours_worked > 40:\n",
    "    ot_hours = num_hours_worked - 40\n",
    "    ot_pay = ot_hours * hourly_pay * 0.5\n",
    "else:\n",
    "    ot_pay = 0\n",
    "    \n",
    "print(weekly_pay)"
   ]
  },
  {
   "cell_type": "code",
   "execution_count": 20,
   "id": "7634fc70",
   "metadata": {},
   "outputs": [
    {
     "name": "stdout",
     "output_type": "stream",
     "text": [
      "i = 5\n",
      "i = 6\n",
      "i = 7\n",
      "i = 8\n",
      "i = 9\n",
      "i = 10\n",
      "i = 11\n",
      "i = 12\n",
      "i = 13\n",
      "i = 14\n",
      "i = 15\n"
     ]
    }
   ],
   "source": [
    "# 2) 1a. Loop Basics While\n",
    "        # Create an integer variable i with a value of 5.\n",
    "        # Create a while loop that runs so long as i is less than or equal to 15\n",
    "        # Each loop iteration, output the current value of i, then increment i by one.\n",
    "\n",
    "i = 5\n",
    "while i <= 15:\n",
    "    print(f\"i = {i}\") #In Python source code, an f-string is a literal string, prefixed with f , which contains expressions inside braces. The expressions are replaced with their values.\n",
    "    i += 1"
   ]
  },
  {
   "cell_type": "code",
   "execution_count": 21,
   "id": "e92c85ec",
   "metadata": {},
   "outputs": [
    {
     "name": "stdout",
     "output_type": "stream",
     "text": [
      " i = 100\n",
      " i = 95\n",
      " i = 90\n",
      " i = 85\n",
      " i = 80\n",
      " i = 75\n",
      " i = 70\n",
      " i = 65\n",
      " i = 60\n",
      " i = 55\n",
      " i = 50\n",
      " i = 45\n",
      " i = 40\n",
      " i = 35\n",
      " i = 30\n",
      " i = 25\n",
      " i = 20\n",
      " i = 15\n",
      " i = 10\n",
      " i = 5\n",
      " i = 0\n",
      " i = -5\n",
      " i = -10\n"
     ]
    }
   ],
   "source": [
    "# 2) 1b. Alter your loop to count backwards by 5's from 100 to -10.\n",
    "\n",
    "i = 100\n",
    "while i >= -10:\n",
    "    print( f\" i = {i}\")\n",
    "    i -= 5"
   ]
  },
  {
   "cell_type": "code",
   "execution_count": 22,
   "id": "3b7fae24",
   "metadata": {},
   "outputs": [
    {
     "name": "stdout",
     "output_type": "stream",
     "text": [
      " i = 2\n",
      " i = 4\n",
      " i = 16\n",
      " i = 256\n",
      " i = 65536\n"
     ]
    }
   ],
   "source": [
    "# 2) 1c. Create a while loop that starts at 2, \n",
    "# and displays the number squared on each line while the number is less than 1,000,000. \n",
    "\n",
    "i = 2\n",
    "\n",
    "while i < 1000000:\n",
    "    print(f\" i = {i}\")\n",
    "    i **= 2"
   ]
  },
  {
   "cell_type": "code",
   "execution_count": 24,
   "id": "2e990188",
   "metadata": {},
   "outputs": [
    {
     "name": "stdout",
     "output_type": "stream",
     "text": [
      " i = 100\n",
      " i = 95\n",
      " i = 90\n",
      " i = 85\n",
      " i = 80\n",
      " i = 75\n",
      " i = 70\n",
      " i = 65\n",
      " i = 60\n",
      " i = 55\n",
      " i = 50\n",
      " i = 45\n",
      " i = 40\n",
      " i = 35\n",
      " i = 30\n",
      " i = 25\n",
      " i = 20\n",
      " i = 15\n",
      " i = 10\n",
      " i = 5\n"
     ]
    }
   ],
   "source": [
    "# 2 1d. Create a while loop to count backwards from 100 using increments of 5.\n",
    "\n",
    "i = 100\n",
    "\n",
    "while i >= 5:\n",
    "    print(f\" i = {i}\")\n",
    "    i -= 5"
   ]
  },
  {
   "cell_type": "code",
   "execution_count": 25,
   "id": "cc045e72",
   "metadata": {},
   "outputs": [
    {
     "name": "stdout",
     "output_type": "stream",
     "text": [
      "Enter a number:8\n",
      "8 x 1 = 8\n",
      "8 x 2 = 16\n",
      "8 x 3 = 24\n",
      "8 x 4 = 32\n",
      "8 x 5 = 40\n",
      "8 x 6 = 48\n",
      "8 x 7 = 56\n",
      "8 x 8 = 64\n",
      "8 x 9 = 72\n",
      "8 x 10 = 80\n"
     ]
    }
   ],
   "source": [
    "# 2) 2b. Loops\n",
    "# Write some code that prompts the user for a number, then shows a multiplication table up through 10 for that number\n",
    "x = int(input(\"Enter a number:\"))\n",
    "\n",
    "for i in range(1, 11): #this gives the range of 10 needed to multiply a number to ten.\n",
    "    print(f'{x} x {i} = {x * i}')"
   ]
  },
  {
   "cell_type": "code",
   "execution_count": 28,
   "id": "90dde5a9",
   "metadata": {},
   "outputs": [
    {
     "name": "stdout",
     "output_type": "stream",
     "text": [
      "1\n",
      "22\n",
      "333\n",
      "4444\n",
      "55555\n",
      "666666\n",
      "7777777\n",
      "88888888\n",
      "999999999\n"
     ]
    }
   ],
   "source": [
    "# 2) 2c. Create a for loop that uses print to create the output shown below. 1, 22, 333, 444, as a pyramid up til 9\n",
    "\n",
    "for i in range(1, 10):\n",
    "    print(str(i) * i) #must make a string to put them together without an arithmetic function"
   ]
  },
  {
   "cell_type": "code",
   "execution_count": 40,
   "id": "ad25c335",
   "metadata": {},
   "outputs": [
    {
     "name": "stdout",
     "output_type": "stream",
     "text": [
      "Enter an odd number between 1 and 50: 43\n",
      "This number is odd: 1\n",
      "This number is odd: 3\n",
      "This number is odd: 5\n",
      "This number is odd: 7\n",
      "This number is odd: 9\n",
      "This number is odd: 11\n",
      "This number is odd: 13\n",
      "This number is odd: 15\n",
      "This number is odd: 17\n",
      "This number is odd: 19\n",
      "This number is odd: 21\n",
      "This number is odd: 23\n",
      "This number is odd: 25\n",
      "This number is odd: 27\n",
      "This number is odd: 29\n",
      "This number is odd: 31\n",
      "This number is odd: 33\n",
      "This number is odd: 35\n",
      "This number is odd: 37\n",
      "This number is odd: 39\n",
      "This number is odd: 41\n",
      "Skipping number: 43\n",
      "This number is odd: 45\n",
      "This number is odd: 47\n",
      "This number is odd: 49\n"
     ]
    }
   ],
   "source": [
    "\n",
    "# 2) 3a) break and continue. Prompt the user for an odd number between 1 and 50. Use a loop and a break statement \n",
    "#to continue prompting the user if they enter invalid input. \n",
    "#(Hint: use the isdigit method on strings to determine this). \n",
    "#Use a loop and the continue statement to output all the odd numbers between 1 and 50, \n",
    "#except for the number the user entered.\n",
    "\n",
    "while True: #this creates an infinite loop until the condition is met\n",
    "    x = input(\"Enter an odd number between 1 and 50: \")\n",
    "    if x.isdigit():\n",
    "        x = int(x)\n",
    "        if x % 2 == 0:\n",
    "            continue\n",
    "    break\n",
    "\n",
    "        \n",
    "i = 1\n",
    "while i <= 50:\n",
    "    if i == x:\n",
    "        print(f\"Skipping number: {i}\")\n",
    "        i += 2\n",
    "        continue\n",
    "    print(f\"This number is odd: {i}\")\n",
    "    i += 2\n",
    "        \n",
    "    "
   ]
  },
  {
   "cell_type": "code",
   "execution_count": 44,
   "id": "a0d5f770",
   "metadata": {},
   "outputs": [
    {
     "name": "stdout",
     "output_type": "stream",
     "text": [
      "Enter a positive number: 57\n",
      "0\n",
      "1\n",
      "2\n",
      "3\n",
      "4\n",
      "5\n",
      "6\n",
      "7\n",
      "8\n",
      "9\n",
      "10\n",
      "11\n",
      "12\n",
      "13\n",
      "14\n",
      "15\n",
      "16\n",
      "17\n",
      "18\n",
      "19\n",
      "20\n",
      "21\n",
      "22\n",
      "23\n",
      "24\n",
      "25\n",
      "26\n",
      "27\n",
      "28\n",
      "29\n",
      "30\n",
      "31\n",
      "32\n",
      "33\n",
      "34\n",
      "35\n",
      "36\n",
      "37\n",
      "38\n",
      "39\n",
      "40\n",
      "41\n",
      "42\n",
      "43\n",
      "44\n",
      "45\n",
      "46\n",
      "47\n",
      "48\n",
      "49\n",
      "50\n",
      "51\n",
      "52\n",
      "53\n",
      "54\n",
      "55\n",
      "56\n",
      "57\n"
     ]
    }
   ],
   "source": [
    "# 2) 3b. The input function can be used to prompt for input and use that input in your python code. \n",
    "# Prompt the user to enter a positive number and write a loop that counts from 0 to that number. \n",
    "# (Hints: first make sure that the value the user entered is a valid number, also note that the input \n",
    "# function returns a string, so you'll need to convert this to a numeric type.)\n",
    "\n",
    "while True:\n",
    "    x = input(\"Enter a positive number: \")\n",
    "    if x.isdigit(): #have to use isdigit() to determine if it is a digit\n",
    "        x = int(x) #must convert to int\n",
    "        if x <= 0: #to ensure positive number, check to see if input is <= 0\n",
    "            continue #continues loop \n",
    "        break\n",
    "        \n",
    "for i in range(0, x + 1): #used to create the count starting at 0 and the range is x + 1 to stop count at x\n",
    "    print(i) #print user input\n"
   ]
  },
  {
   "cell_type": "code",
   "execution_count": 1,
   "id": "f0fe2b80",
   "metadata": {},
   "outputs": [
    {
     "name": "stdout",
     "output_type": "stream",
     "text": [
      "Enter a positive interger: 32\n",
      "32\n",
      "31\n",
      "30\n",
      "29\n",
      "28\n",
      "27\n",
      "26\n",
      "25\n",
      "24\n",
      "23\n",
      "22\n",
      "21\n",
      "20\n",
      "19\n",
      "18\n",
      "17\n",
      "16\n",
      "15\n",
      "14\n",
      "13\n",
      "12\n",
      "11\n",
      "10\n",
      "9\n",
      "8\n",
      "7\n",
      "6\n",
      "5\n",
      "4\n",
      "3\n",
      "2\n",
      "1\n"
     ]
    }
   ],
   "source": [
    "# 2) e. Write a program that prompts the user for a positive integer. \n",
    "# Next write a loop that prints out the numbers from the number the user entered down to 1.\n",
    "\n",
    "while True:\n",
    "    x = input(\"Enter a positive interger: \")\n",
    "    if x.isdigit():\n",
    "        x = int(x)\n",
    "        if x <= 0:\n",
    "            continue\n",
    "    break\n",
    "    \n",
    "for i in range(x, 0, -1): #x is the starting place, 0 is exclusive thus stops at 1, -1 is the increment (countdown) by one\n",
    "    print(i)\n",
    "\n"
   ]
  },
  {
   "cell_type": "code",
   "execution_count": null,
   "id": "9783db50",
   "metadata": {},
   "outputs": [],
   "source": [
    "# 3) Fizzbuzz\n",
    "\n",
    "#One of the most common interview questions for entry-level programmers is the FizzBuzz test. \n",
    "#Developed by Imran Ghory, the test is designed to test basic looping and conditional logic skills.\n",
    "\n",
    "    #Write a program that prints the numbers from 1 to 100.\n",
    "    #For multiples of three print \"Fizz\" instead of the number\n",
    "    #For the multiples of five print \"Buzz\".\n",
    "    #For numbers which are multiples of both three and five print \"FizzBuzz\".\n",
    "\n",
    "    \n"
   ]
  },
  {
   "cell_type": "code",
   "execution_count": null,
   "id": "56f064be",
   "metadata": {},
   "outputs": [],
   "source": []
  }
 ],
 "metadata": {
  "kernelspec": {
   "display_name": "Python 3 (ipykernel)",
   "language": "python",
   "name": "python3"
  },
  "language_info": {
   "codemirror_mode": {
    "name": "ipython",
    "version": 3
   },
   "file_extension": ".py",
   "mimetype": "text/x-python",
   "name": "python",
   "nbconvert_exporter": "python",
   "pygments_lexer": "ipython3",
   "version": "3.9.7"
  }
 },
 "nbformat": 4,
 "nbformat_minor": 5
}
